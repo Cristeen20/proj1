{
  "nbformat": 4,
  "nbformat_minor": 0,
  "metadata": {
    "colab": {
      "name": "KerasRegressionBostonlinear.ipynb",
      "provenance": [],
      "authorship_tag": "ABX9TyP/qvE5fCys7ycCi+w25IvX",
      "include_colab_link": true
    },
    "kernelspec": {
      "name": "python3",
      "display_name": "Python 3"
    }
  },
  "cells": [
    {
      "cell_type": "markdown",
      "metadata": {
        "id": "view-in-github",
        "colab_type": "text"
      },
      "source": [
        "<a href=\"https://colab.research.google.com/github/Cristeen20/proj1/blob/master/KerasRegressionBostonlinear.ipynb\" target=\"_parent\"><img src=\"https://colab.research.google.com/assets/colab-badge.svg\" alt=\"Open In Colab\"/></a>"
      ]
    },
    {
      "cell_type": "code",
      "metadata": {
        "id": "7X9C3_Qa8-eN",
        "colab_type": "code",
        "colab": {}
      },
      "source": [
        "import numpy as np\n",
        "import pandas as pd\n",
        "import matplotlib.pyplot as plt\n"
      ],
      "execution_count": 0,
      "outputs": []
    },
    {
      "cell_type": "code",
      "metadata": {
        "id": "B_XTTbfoGuN9",
        "colab_type": "code",
        "colab": {}
      },
      "source": [
        "from sklearn.datasets import load_boston"
      ],
      "execution_count": 0,
      "outputs": []
    },
    {
      "cell_type": "code",
      "metadata": {
        "id": "WIgbFTkbGxlZ",
        "colab_type": "code",
        "colab": {}
      },
      "source": [
        "import tensorflow as tf\n",
        "from tensorflow import keras\n",
        "tf.set_random_seed(42)"
      ],
      "execution_count": 0,
      "outputs": []
    },
    {
      "cell_type": "code",
      "metadata": {
        "id": "Ha1W88TGG_Pw",
        "colab_type": "code",
        "colab": {}
      },
      "source": [
        "np.random.seed(42)"
      ],
      "execution_count": 0,
      "outputs": []
    },
    {
      "cell_type": "code",
      "metadata": {
        "id": "sf8pKg0LHw_l",
        "colab_type": "code",
        "colab": {}
      },
      "source": [
        "boston=load_boston()\n",
        "X=boston.data\n",
        "y=boston.target"
      ],
      "execution_count": 0,
      "outputs": []
    },
    {
      "cell_type": "code",
      "metadata": {
        "id": "pHutiiWLH0hF",
        "colab_type": "code",
        "colab": {}
      },
      "source": [
        "from sklearn.model_selection import train_test_split\n",
        "X_train,X_test,y_train,y_test=train_test_split(X,y,test_size=0.2,random_state=42)"
      ],
      "execution_count": 0,
      "outputs": []
    },
    {
      "cell_type": "code",
      "metadata": {
        "id": "aM0oooN5IW66",
        "colab_type": "code",
        "colab": {}
      },
      "source": [
        "from sklearn.preprocessing import StandardScaler\n",
        "sc=StandardScaler()"
      ],
      "execution_count": 0,
      "outputs": []
    },
    {
      "cell_type": "code",
      "metadata": {
        "id": "S3KR0NqoIdYx",
        "colab_type": "code",
        "outputId": "fb46ca52-c61a-4a15-aa24-f3e08cd30d45",
        "colab": {
          "base_uri": "https://localhost:8080/",
          "height": 34
        }
      },
      "source": [
        "sc.fit(X_train)"
      ],
      "execution_count": 0,
      "outputs": [
        {
          "output_type": "execute_result",
          "data": {
            "text/plain": [
              "StandardScaler(copy=True, with_mean=True, with_std=True)"
            ]
          },
          "metadata": {
            "tags": []
          },
          "execution_count": 59
        }
      ]
    },
    {
      "cell_type": "code",
      "metadata": {
        "id": "z5M0nfoeImWx",
        "colab_type": "code",
        "colab": {}
      },
      "source": [
        "X_train_std=sc.transform(X_train)\n",
        "X_test_std=sc.transform(X_test)"
      ],
      "execution_count": 0,
      "outputs": []
    },
    {
      "cell_type": "code",
      "metadata": {
        "id": "-akPR69dIyBp",
        "colab_type": "code",
        "colab": {}
      },
      "source": [
        "model=keras.models.Sequential()\n",
        "# input layer"
      ],
      "execution_count": 0,
      "outputs": []
    },
    {
      "cell_type": "code",
      "metadata": {
        "id": "f8nEnOJVI9ro",
        "colab_type": "code",
        "colab": {}
      },
      "source": [
        "#hidden layer\n",
        "\n",
        "model.add(keras.layers.Dense(units=18,activation='relu',input_shape=X_train.shape[1:]))"
      ],
      "execution_count": 0,
      "outputs": []
    },
    {
      "cell_type": "code",
      "metadata": {
        "id": "747doUtVJliN",
        "colab_type": "code",
        "colab": {}
      },
      "source": [
        "model.add(keras.layers.Dense(units=12,activation='relu'))\n",
        "model.add(keras.layers.Dense(units=8,activation='relu'))\n",
        "model.add(keras.layers.Dense(units=6,activation='relu'))"
      ],
      "execution_count": 0,
      "outputs": []
    },
    {
      "cell_type": "code",
      "metadata": {
        "id": "sdihQ9xHJ1HD",
        "colab_type": "code",
        "colab": {}
      },
      "source": [
        "#output layer\n",
        "model.add(keras.layers.Dense(units=1,activation='linear'))"
      ],
      "execution_count": 0,
      "outputs": []
    },
    {
      "cell_type": "code",
      "metadata": {
        "id": "Ll_aPn32KIOa",
        "colab_type": "code",
        "outputId": "ffe61ef3-9a99-4280-8d35-95e4ea2c2f65",
        "colab": {
          "base_uri": "https://localhost:8080/",
          "height": 330
        }
      },
      "source": [
        "model.summary()"
      ],
      "execution_count": 0,
      "outputs": [
        {
          "output_type": "stream",
          "text": [
            "Model: \"sequential_2\"\n",
            "_________________________________________________________________\n",
            "Layer (type)                 Output Shape              Param #   \n",
            "=================================================================\n",
            "dense_15 (Dense)             (None, 18)                252       \n",
            "_________________________________________________________________\n",
            "dense_16 (Dense)             (None, 12)                228       \n",
            "_________________________________________________________________\n",
            "dense_17 (Dense)             (None, 8)                 104       \n",
            "_________________________________________________________________\n",
            "dense_18 (Dense)             (None, 6)                 54        \n",
            "_________________________________________________________________\n",
            "dense_19 (Dense)             (None, 1)                 7         \n",
            "=================================================================\n",
            "Total params: 645\n",
            "Trainable params: 645\n",
            "Non-trainable params: 0\n",
            "_________________________________________________________________\n"
          ],
          "name": "stdout"
        }
      ]
    },
    {
      "cell_type": "code",
      "metadata": {
        "id": "eHSvU4fCKOhp",
        "colab_type": "code",
        "colab": {}
      },
      "source": [
        "model.compile(loss='mse',optimizer='adam',metrics=['mae'])"
      ],
      "execution_count": 0,
      "outputs": []
    },
    {
      "cell_type": "code",
      "metadata": {
        "id": "TNNCNVMYKfwQ",
        "colab_type": "code",
        "outputId": "8dc9bca1-4aa4-4601-e4b3-632c77e25ca0",
        "colab": {
          "base_uri": "https://localhost:8080/",
          "height": 1000
        }
      },
      "source": [
        "model.fit(x=X_train_std, y=y_train, validation_split=0.1, epochs=50,\n",
        "batch_size=16)"
      ],
      "execution_count": 0,
      "outputs": [
        {
          "output_type": "stream",
          "text": [
            "Train on 363 samples, validate on 41 samples\n",
            "Epoch 1/50\n",
            "363/363 [==============================] - 0s 577us/sample - loss: 618.8619 - mean_absolute_error: 23.0237 - val_loss: 603.4515 - val_mean_absolute_error: 23.0446\n",
            "Epoch 2/50\n",
            "363/363 [==============================] - 0s 122us/sample - loss: 603.6241 - mean_absolute_error: 22.6877 - val_loss: 590.3889 - val_mean_absolute_error: 22.7421\n",
            "Epoch 3/50\n",
            "363/363 [==============================] - 0s 118us/sample - loss: 582.2659 - mean_absolute_error: 22.2186 - val_loss: 557.1853 - val_mean_absolute_error: 22.0342\n",
            "Epoch 4/50\n",
            "363/363 [==============================] - 0s 116us/sample - loss: 532.4267 - mean_absolute_error: 21.1257 - val_loss: 491.6273 - val_mean_absolute_error: 20.5768\n",
            "Epoch 5/50\n",
            "363/363 [==============================] - 0s 130us/sample - loss: 437.8210 - mean_absolute_error: 18.8835 - val_loss: 368.5201 - val_mean_absolute_error: 17.5153\n",
            "Epoch 6/50\n",
            "363/363 [==============================] - 0s 126us/sample - loss: 279.7541 - mean_absolute_error: 14.4235 - val_loss: 194.9288 - val_mean_absolute_error: 11.9055\n",
            "Epoch 7/50\n",
            "363/363 [==============================] - 0s 117us/sample - loss: 134.1286 - mean_absolute_error: 9.0581 - val_loss: 96.4936 - val_mean_absolute_error: 6.9324\n",
            "Epoch 8/50\n",
            "363/363 [==============================] - 0s 127us/sample - loss: 81.4325 - mean_absolute_error: 6.8313 - val_loss: 64.6535 - val_mean_absolute_error: 5.2929\n",
            "Epoch 9/50\n",
            "363/363 [==============================] - 0s 125us/sample - loss: 54.8092 - mean_absolute_error: 5.5449 - val_loss: 53.1393 - val_mean_absolute_error: 4.6800\n",
            "Epoch 10/50\n",
            "363/363 [==============================] - 0s 110us/sample - loss: 40.0756 - mean_absolute_error: 4.6688 - val_loss: 46.5051 - val_mean_absolute_error: 4.2607\n",
            "Epoch 11/50\n",
            "363/363 [==============================] - 0s 120us/sample - loss: 31.2016 - mean_absolute_error: 4.0829 - val_loss: 45.9846 - val_mean_absolute_error: 4.2012\n",
            "Epoch 12/50\n",
            "363/363 [==============================] - 0s 126us/sample - loss: 26.8553 - mean_absolute_error: 3.7840 - val_loss: 44.9334 - val_mean_absolute_error: 4.1392\n",
            "Epoch 13/50\n",
            "363/363 [==============================] - 0s 138us/sample - loss: 23.7747 - mean_absolute_error: 3.5395 - val_loss: 44.1942 - val_mean_absolute_error: 4.1471\n",
            "Epoch 14/50\n",
            "363/363 [==============================] - 0s 127us/sample - loss: 21.9919 - mean_absolute_error: 3.4284 - val_loss: 43.6469 - val_mean_absolute_error: 4.1307\n",
            "Epoch 15/50\n",
            "363/363 [==============================] - 0s 132us/sample - loss: 20.6020 - mean_absolute_error: 3.2668 - val_loss: 43.0095 - val_mean_absolute_error: 4.0847\n",
            "Epoch 16/50\n",
            "363/363 [==============================] - 0s 122us/sample - loss: 19.3866 - mean_absolute_error: 3.1886 - val_loss: 41.2651 - val_mean_absolute_error: 4.0558\n",
            "Epoch 17/50\n",
            "363/363 [==============================] - 0s 185us/sample - loss: 18.4280 - mean_absolute_error: 3.1093 - val_loss: 40.4305 - val_mean_absolute_error: 3.9553\n",
            "Epoch 18/50\n",
            "363/363 [==============================] - 0s 118us/sample - loss: 17.7803 - mean_absolute_error: 3.0079 - val_loss: 39.5333 - val_mean_absolute_error: 3.8717\n",
            "Epoch 19/50\n",
            "363/363 [==============================] - 0s 148us/sample - loss: 16.8819 - mean_absolute_error: 2.9727 - val_loss: 38.4444 - val_mean_absolute_error: 3.8229\n",
            "Epoch 20/50\n",
            "363/363 [==============================] - 0s 112us/sample - loss: 16.2454 - mean_absolute_error: 2.9200 - val_loss: 37.3265 - val_mean_absolute_error: 3.8061\n",
            "Epoch 21/50\n",
            "363/363 [==============================] - 0s 113us/sample - loss: 15.7377 - mean_absolute_error: 2.8548 - val_loss: 36.7519 - val_mean_absolute_error: 3.7416\n",
            "Epoch 22/50\n",
            "363/363 [==============================] - 0s 124us/sample - loss: 15.3073 - mean_absolute_error: 2.8151 - val_loss: 34.9947 - val_mean_absolute_error: 3.6901\n",
            "Epoch 23/50\n",
            "363/363 [==============================] - 0s 140us/sample - loss: 15.0380 - mean_absolute_error: 2.7703 - val_loss: 35.1725 - val_mean_absolute_error: 3.5971\n",
            "Epoch 24/50\n",
            "363/363 [==============================] - 0s 124us/sample - loss: 14.6038 - mean_absolute_error: 2.7530 - val_loss: 34.0386 - val_mean_absolute_error: 3.5619\n",
            "Epoch 25/50\n",
            "363/363 [==============================] - 0s 124us/sample - loss: 14.1602 - mean_absolute_error: 2.7054 - val_loss: 33.0094 - val_mean_absolute_error: 3.5069\n",
            "Epoch 26/50\n",
            "363/363 [==============================] - 0s 132us/sample - loss: 13.8534 - mean_absolute_error: 2.6771 - val_loss: 32.3669 - val_mean_absolute_error: 3.4747\n",
            "Epoch 27/50\n",
            "363/363 [==============================] - 0s 123us/sample - loss: 13.6731 - mean_absolute_error: 2.6437 - val_loss: 32.2932 - val_mean_absolute_error: 3.4824\n",
            "Epoch 28/50\n",
            "363/363 [==============================] - 0s 141us/sample - loss: 13.2672 - mean_absolute_error: 2.6257 - val_loss: 31.1791 - val_mean_absolute_error: 3.4282\n",
            "Epoch 29/50\n",
            "363/363 [==============================] - 0s 126us/sample - loss: 13.0515 - mean_absolute_error: 2.5807 - val_loss: 30.2014 - val_mean_absolute_error: 3.3510\n",
            "Epoch 30/50\n",
            "363/363 [==============================] - 0s 126us/sample - loss: 12.8838 - mean_absolute_error: 2.5709 - val_loss: 30.2483 - val_mean_absolute_error: 3.3826\n",
            "Epoch 31/50\n",
            "363/363 [==============================] - 0s 125us/sample - loss: 12.6659 - mean_absolute_error: 2.5388 - val_loss: 29.8197 - val_mean_absolute_error: 3.3662\n",
            "Epoch 32/50\n",
            "363/363 [==============================] - 0s 125us/sample - loss: 12.5133 - mean_absolute_error: 2.5283 - val_loss: 28.7770 - val_mean_absolute_error: 3.3563\n",
            "Epoch 33/50\n",
            "363/363 [==============================] - 0s 127us/sample - loss: 12.4407 - mean_absolute_error: 2.4998 - val_loss: 28.2467 - val_mean_absolute_error: 3.3162\n",
            "Epoch 34/50\n",
            "363/363 [==============================] - 0s 131us/sample - loss: 12.1298 - mean_absolute_error: 2.4862 - val_loss: 28.3759 - val_mean_absolute_error: 3.3383\n",
            "Epoch 35/50\n",
            "363/363 [==============================] - 0s 122us/sample - loss: 11.9128 - mean_absolute_error: 2.4711 - val_loss: 27.8156 - val_mean_absolute_error: 3.2954\n",
            "Epoch 36/50\n",
            "363/363 [==============================] - 0s 141us/sample - loss: 11.7190 - mean_absolute_error: 2.4146 - val_loss: 27.6920 - val_mean_absolute_error: 3.2878\n",
            "Epoch 37/50\n",
            "363/363 [==============================] - 0s 121us/sample - loss: 11.5085 - mean_absolute_error: 2.4324 - val_loss: 26.5342 - val_mean_absolute_error: 3.2521\n",
            "Epoch 38/50\n",
            "363/363 [==============================] - 0s 120us/sample - loss: 11.7161 - mean_absolute_error: 2.4200 - val_loss: 26.9493 - val_mean_absolute_error: 3.2783\n",
            "Epoch 39/50\n",
            "363/363 [==============================] - 0s 123us/sample - loss: 11.4048 - mean_absolute_error: 2.4177 - val_loss: 26.3792 - val_mean_absolute_error: 3.2876\n",
            "Epoch 40/50\n",
            "363/363 [==============================] - 0s 128us/sample - loss: 11.1771 - mean_absolute_error: 2.3558 - val_loss: 26.6314 - val_mean_absolute_error: 3.2284\n",
            "Epoch 41/50\n",
            "363/363 [==============================] - 0s 126us/sample - loss: 11.0043 - mean_absolute_error: 2.3623 - val_loss: 25.4282 - val_mean_absolute_error: 3.2127\n",
            "Epoch 42/50\n",
            "363/363 [==============================] - 0s 121us/sample - loss: 10.9605 - mean_absolute_error: 2.3469 - val_loss: 25.5770 - val_mean_absolute_error: 3.1708\n",
            "Epoch 43/50\n",
            "363/363 [==============================] - 0s 136us/sample - loss: 10.6777 - mean_absolute_error: 2.3177 - val_loss: 25.1409 - val_mean_absolute_error: 3.1813\n",
            "Epoch 44/50\n",
            "363/363 [==============================] - 0s 130us/sample - loss: 10.6850 - mean_absolute_error: 2.3318 - val_loss: 25.1023 - val_mean_absolute_error: 3.2000\n",
            "Epoch 45/50\n",
            "363/363 [==============================] - 0s 130us/sample - loss: 10.6240 - mean_absolute_error: 2.3186 - val_loss: 25.7514 - val_mean_absolute_error: 3.2296\n",
            "Epoch 46/50\n",
            "363/363 [==============================] - 0s 142us/sample - loss: 10.5083 - mean_absolute_error: 2.3049 - val_loss: 24.4812 - val_mean_absolute_error: 3.1231\n",
            "Epoch 47/50\n",
            "363/363 [==============================] - 0s 137us/sample - loss: 10.3259 - mean_absolute_error: 2.2634 - val_loss: 24.3561 - val_mean_absolute_error: 3.1178\n",
            "Epoch 48/50\n",
            "363/363 [==============================] - 0s 131us/sample - loss: 10.2187 - mean_absolute_error: 2.2717 - val_loss: 24.3331 - val_mean_absolute_error: 3.1072\n",
            "Epoch 49/50\n",
            "363/363 [==============================] - 0s 133us/sample - loss: 10.1723 - mean_absolute_error: 2.2475 - val_loss: 23.3467 - val_mean_absolute_error: 3.1106\n",
            "Epoch 50/50\n",
            "363/363 [==============================] - 0s 131us/sample - loss: 9.9124 - mean_absolute_error: 2.2374 - val_loss: 24.3983 - val_mean_absolute_error: 3.1076\n"
          ],
          "name": "stdout"
        },
        {
          "output_type": "execute_result",
          "data": {
            "text/plain": [
              "<tensorflow.python.keras.callbacks.History at 0x7f3f4be8b908>"
            ]
          },
          "metadata": {
            "tags": []
          },
          "execution_count": 67
        }
      ]
    },
    {
      "cell_type": "code",
      "metadata": {
        "id": "nCpNAL_QKmHC",
        "colab_type": "code",
        "outputId": "d12c83f9-d5f3-448f-c99b-e65dd3f032a1",
        "colab": {
          "base_uri": "https://localhost:8080/",
          "height": 54
        }
      },
      "source": [
        "loss,accur=model.evaluate(x=X_test_std,y=y_test)"
      ],
      "execution_count": 0,
      "outputs": [
        {
          "output_type": "stream",
          "text": [
            "102/102 [==============================] - 0s 104us/sample - loss: 13.0214 - mean_absolute_error: 2.2996\n"
          ],
          "name": "stdout"
        }
      ]
    },
    {
      "cell_type": "code",
      "metadata": {
        "id": "y44yLemcKxZy",
        "colab_type": "code",
        "outputId": "6ecd7900-6db8-4abd-f3b7-cd3bc1d30a1b",
        "colab": {
          "base_uri": "https://localhost:8080/",
          "height": 34
        }
      },
      "source": [
        "print(loss,accur)"
      ],
      "execution_count": 0,
      "outputs": [
        {
          "output_type": "stream",
          "text": [
            "13.021376516304764 2.2996452\n"
          ],
          "name": "stdout"
        }
      ]
    },
    {
      "cell_type": "code",
      "metadata": {
        "id": "6D3_UGObK8S6",
        "colab_type": "code",
        "colab": {}
      },
      "source": [
        ""
      ],
      "execution_count": 0,
      "outputs": []
    }
  ]
}